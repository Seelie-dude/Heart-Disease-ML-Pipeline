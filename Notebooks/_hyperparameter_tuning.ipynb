{
 "cells": [
  {
   "cell_type": "code",
   "execution_count": 3,
   "id": "08805d8b",
   "metadata": {},
   "outputs": [
    {
     "name": "stdout",
     "output_type": "stream",
     "text": [
      "Best params: {'max_depth': 5, 'min_samples_split': 10, 'n_estimators': 200}\n",
      "Best score: 0.8066066066066068\n"
     ]
    },
    {
     "data": {
      "text/plain": [
       "['../models/rf_tuned.pkl']"
      ]
     },
     "execution_count": 3,
     "metadata": {},
     "output_type": "execute_result"
    }
   ],
   "source": [
    "import sys, os\n",
    "sys.path.append(os.path.abspath(\"..\"))\n",
    "import pandas as pd\n",
    "from sklearn.model_selection import GridSearchCV\n",
    "from sklearn.ensemble import RandomForestClassifier\n",
    "import joblib\n",
    "\n",
    "# Load reduced features\n",
    "X_train = pd.read_csv(\"../data/X_train_reduced.csv\")\n",
    "y_train = pd.read_csv(\"../data/y_train.csv\").squeeze()\n",
    "y_train_bin = (y_train > 0).astype(int)\n",
    "\n",
    "# Grid Search for Random Forest\n",
    "param_grid = {\n",
    "    \"n_estimators\": [100,200,300],\n",
    "    \"max_depth\": [5,8,10],\n",
    "    \"min_samples_split\": [2,5,10]\n",
    "}\n",
    "\n",
    "grid_rf = GridSearchCV(RandomForestClassifier(random_state=42), param_grid, cv=5, scoring='accuracy')\n",
    "grid_rf.fit(X_train, y_train_bin)\n",
    "\n",
    "print(\"Best params:\", grid_rf.best_params_)\n",
    "print(\"Best score:\", grid_rf.best_score_)\n",
    "\n",
    "# Save tuned model\n",
    "joblib.dump(grid_rf.best_estimator_, \"../models/rf_tuned.pkl\")"
   ]
  }
 ],
 "metadata": {
  "kernelspec": {
   "display_name": "Python 3",
   "language": "python",
   "name": "python3"
  },
  "language_info": {
   "codemirror_mode": {
    "name": "ipython",
    "version": 3
   },
   "file_extension": ".py",
   "mimetype": "text/x-python",
   "name": "python",
   "nbconvert_exporter": "python",
   "pygments_lexer": "ipython3",
   "version": "3.13.6"
  }
 },
 "nbformat": 4,
 "nbformat_minor": 5
}
