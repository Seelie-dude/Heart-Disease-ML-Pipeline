{
 "cells": [
  {
   "cell_type": "code",
   "execution_count": 7,
   "id": "ed747b98",
   "metadata": {},
   "outputs": [
    {
     "name": "stdout",
     "output_type": "stream",
     "text": [
      "Index(['age', 'trestbps', 'chol', 'thalach', 'ca', 'sex_1', 'cp_3', 'cp_4',\n",
      "       'restecg_2', 'exang_1', 'slope_2', 'thal_7.0'],\n",
      "      dtype='object')\n",
      "16    thal_7.0\n",
      "12     exang_1\n",
      "8         cp_4\n",
      "4           ca\n",
      "6         cp_2\n",
      "13     slope_2\n",
      "7         cp_3\n",
      "5        sex_1\n",
      "Name: Feature, dtype: object\n"
     ]
    }
   ],
   "source": [
    "import sys, os\n",
    "sys.path.append(os.path.abspath(\"..\"))\n",
    "\n",
    "import pandas as pd\n",
    "from xgboost import XGBClassifier\n",
    "from sklearn.feature_selection import RFE, chi2\n",
    "from src.utils import N_selector\n",
    "# Load processed data\n",
    "X_train = pd.read_csv(\"../data/X_train_processed.csv\")\n",
    "X_test = pd.read_csv(\"../data/X_test_processed.csv\")\n",
    "y_train = pd.read_csv(\"../data/y_train.csv\").squeeze()\n",
    "\n",
    "# Binary target\n",
    "y_train_bin = (y_train > 0).astype(int)\n",
    "n_selec = N_selector(X_train, 0.95)\n",
    "n_opt = n_selec.calc_n()\n",
    "\n",
    "xgb_model = XGBClassifier(objective=\"binary:logistic\", random_state=42 ) #objective is set for binary classification\n",
    "xgb_model.fit(X_train, y_train)\n",
    "rfe = RFE(xgb_model, n_features_to_select= n_opt)\n",
    "rfe.fit(X_train, y_train)\n",
    "\n",
    "feature_stats, p_vals = chi2(X_train, y_train)\n",
    "\n",
    "\n",
    "rfe_selected_features = X_train.columns[rfe.support_]\n",
    "\n",
    "chi2_results = pd.DataFrame({\n",
    "    \"Feature\": X_train.columns,\n",
    "    \"Chi2_Stat\": feature_stats,\n",
    "    \"p_value\": p_vals\n",
    "}).sort_values(\"p_value\")\n",
    "\n",
    "chi2_significant_features = chi2_results[chi2_results[\"p_value\"] < 0.05][\"Feature\"]\n",
    "print(rfe_selected_features)\n",
    "print(chi2_significant_features)\n",
    "\n",
    "#Finding the most relevant features according to bith rfe and chi2 \n",
    "modelling_features = list(set(rfe_selected_features) & set(chi2_significant_features))\n",
    "\n",
    "X_train_reduc = X_train[modelling_features]\n",
    "X_test_reduc = X_test[modelling_features]\n",
    "\n",
    "X_train_reduc.to_csv(\"../data/X_train_reduc.csv\")\n",
    "X_test_reduc.to_csv(\"../data/X_test_reduc.csv\")\n"
   ]
  }
 ],
 "metadata": {
  "kernelspec": {
   "display_name": "Python 3",
   "language": "python",
   "name": "python3"
  },
  "language_info": {
   "codemirror_mode": {
    "name": "ipython",
    "version": 3
   },
   "file_extension": ".py",
   "mimetype": "text/x-python",
   "name": "python",
   "nbconvert_exporter": "python",
   "pygments_lexer": "ipython3",
   "version": "3.13.6"
  }
 },
 "nbformat": 4,
 "nbformat_minor": 5
}
